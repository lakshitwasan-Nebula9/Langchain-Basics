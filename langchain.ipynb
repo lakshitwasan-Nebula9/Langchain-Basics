{
 "cells": [
  {
   "cell_type": "markdown",
   "metadata": {},
   "source": [
    "# USING GROQ API"
   ]
  },
  {
   "cell_type": "code",
   "execution_count": 1,
   "metadata": {},
   "outputs": [],
   "source": [
    "from groq import Groq\n",
    "\n",
    "api_key = \"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\"\n",
    "client = Groq(api_key=api_key)"
   ]
  },
  {
   "cell_type": "code",
   "execution_count": 2,
   "metadata": {},
   "outputs": [
    {
     "name": "stdout",
     "output_type": "stream",
     "text": [
      "Bello! Congratulations on your decision to open an Italian restaurant! Here are some name suggestions for your consideration:\n",
      "\n",
      "1. **Bella Vita** - \"Beautiful Life\" in Italian, evoking a sense of warmth, hospitality, and delicious food.\n",
      "2. **Pasta & Co.** - A simple, straightforward name that highlights the cornerstone of Italian cuisine.\n",
      "3. **La Dolce Vita** - \"The Sweet Life\" in Italian, suggesting a restaurant that's a haven for taste buds.\n",
      "4. **Tavola Italian Kitchen** - \"Tavola\" means \"table\" in Italian, conveying a cozy, communal dining experience.\n",
      "5. **Fiamma** - \"Flame\" in Italian, symbolizing the passion and energy of Italian cuisine.\n",
      "6. **Mangia!** - A playful, colloquial name that means \"Eat!\" in Italian, encouraging customers to come and enjoy your food.\n",
      "7. **Il Cuore Italiano** - \"The Italian Heart\" in Italian, suggesting a restaurant that serves up authentic, heartfelt Italian dishes.\n",
      "8. **Sapore Italiano** - \"Italian Flavor\" in Italian, emphasizing the rich culinary traditions of Italy.\n",
      "9. **Casa di Pasta** - \"House of Pasta\" in Italian, emphasizing the restaurant's focus on pasta dishes.\n",
      "10. **Fiorella's** - A classic, charming name with Italian roots, perfect for a cozy, family-run restaurant.\n",
      "\n",
      "Choose the one that resonates with your vision and brand identity, Buon appetito!\n"
     ]
    }
   ],
   "source": [
    "response = client.chat.completions.create(\n",
    "    messages=[\n",
    "        {\n",
    "            \"role\": \"user\",\n",
    "            \"content\": \"I want to open a restaurant for Italian food. Suggest a name for my restaurant.\"\n",
    "        }\n",
    "    ],\n",
    "    model=\"llama3-8b-8192\",\n",
    "    # model=\"llama-3.1-8b-instant\",\n",
    ")\n",
    "\n",
    "name = response.choices[0].message.content\n",
    "print(name)\n"
   ]
  },
  {
   "cell_type": "markdown",
   "metadata": {},
   "source": [
    "# USING GROQAPI USING LANGCHAIN"
   ]
  },
  {
   "cell_type": "code",
   "execution_count": 3,
   "metadata": {},
   "outputs": [
    {
     "name": "stdout",
     "output_type": "stream",
     "text": [
      "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\n"
     ]
    }
   ],
   "source": [
    "import getpass\n",
    "import os\n",
    "\n",
    "if \"GROQ_API_KEY\" not in os.environ:\n",
    "    os.environ[\"GROQ_API_KEY\"] = getpass.getpass(\"Enter your Groq API key: \")\n",
    "    \n",
    "print(os.environ[\"GROQ_API_KEY\"])"
   ]
  },
  {
   "cell_type": "code",
   "execution_count": 84,
   "metadata": {},
   "outputs": [],
   "source": [
    "from langchain_groq import ChatGroq\n",
    "\n",
    "llm = ChatGroq(\n",
    "    # model=\"mixtral-8x7b-32768\",\n",
    "    # model=\"gemma2-9b-it\",\n",
    "    model=\"llama3-8b-8192\",\n",
    "    temperature=0.9,\n",
    "    max_retries=2,\n",
    ")"
   ]
  },
  {
   "cell_type": "markdown",
   "metadata": {},
   "source": [
    "### LANGUAGE TRANSLATOR"
   ]
  },
  {
   "cell_type": "code",
   "execution_count": 5,
   "metadata": {},
   "outputs": [
    {
     "data": {
      "text/plain": [
       "AIMessage(content=\"Je adore l'apprentissage.\", additional_kwargs={}, response_metadata={'token_usage': {'completion_tokens': 9, 'prompt_tokens': 35, 'total_tokens': 44, 'completion_time': 0.0075, 'prompt_time': 0.004496146, 'queue_time': 0.008454684, 'total_time': 0.011996146}, 'model_name': 'llama3-8b-8192', 'system_fingerprint': 'fp_179b0f92c9', 'finish_reason': 'stop', 'logprobs': None}, id='run-d1373a86-9d77-49a1-9d92-c2653005d59f-0', usage_metadata={'input_tokens': 35, 'output_tokens': 9, 'total_tokens': 44})"
      ]
     },
     "execution_count": 5,
     "metadata": {},
     "output_type": "execute_result"
    }
   ],
   "source": [
    "messages = [\n",
    "    (\n",
    "        \"system\",\n",
    "        \"You are a helpful assistant that translates English to French. Translate the user sentence.\",\n",
    "    ),\n",
    "    (\"human\", \"I love programming.\"),\n",
    "]\n",
    "ai_msg = llm.invoke(messages)\n",
    "ai_msg"
   ]
  },
  {
   "cell_type": "code",
   "execution_count": 6,
   "metadata": {},
   "outputs": [
    {
     "name": "stdout",
     "output_type": "stream",
     "text": [
      "Je adore l'apprentissage.\n"
     ]
    }
   ],
   "source": [
    "print(ai_msg.content)"
   ]
  },
  {
   "cell_type": "markdown",
   "metadata": {},
   "source": [
    "### Prompt Templating"
   ]
  },
  {
   "cell_type": "code",
   "execution_count": 7,
   "metadata": {},
   "outputs": [],
   "source": [
    "from langchain_core.prompts import ChatPromptTemplate\n",
    "\n",
    "prompt = ChatPromptTemplate.from_messages(\n",
    "    [\n",
    "        (\n",
    "            \"system\",\n",
    "            \"You are a helpful assistant that translates {input_language} to {output_language}.\",\n",
    "        ),\n",
    "        (\"human\", \"{input}\"),\n",
    "    ]\n",
    ")\n",
    "\n",
    "chain = prompt | llm\n",
    "ai_msg = chain.invoke(\n",
    "    {\n",
    "        \"input_language\": \"English\",\n",
    "        \"output_language\": \"German\",\n",
    "        \"input\": \"I love programming.\",\n",
    "    }\n",
    ")"
   ]
  },
  {
   "cell_type": "code",
   "execution_count": 8,
   "metadata": {},
   "outputs": [
    {
     "name": "stdout",
     "output_type": "stream",
     "text": [
      "Ich liebe Programmieren!\n"
     ]
    }
   ],
   "source": [
    "print(ai_msg.content)\n"
   ]
  },
  {
   "cell_type": "markdown",
   "metadata": {},
   "source": [
    "### Simple Sequence Chaining"
   ]
  },
  {
   "cell_type": "code",
   "execution_count": 9,
   "metadata": {},
   "outputs": [
    {
     "name": "stderr",
     "output_type": "stream",
     "text": [
      "C:\\Users\\Lakshit Wasan\\AppData\\Local\\Temp\\ipykernel_11516\\240233418.py:14: LangChainDeprecationWarning: The class `LLMChain` was deprecated in LangChain 0.1.17 and will be removed in 1.0. Use :meth:`~RunnableSequence, e.g., `prompt | llm`` instead.\n",
      "  chain_en_to_de = LLMChain(prompt=prompt_en_to_de, llm=llm)\n"
     ]
    }
   ],
   "source": [
    "from langchain_core.prompts import ChatPromptTemplate\n",
    "from langchain.chains import SimpleSequentialChain, LLMChain\n",
    "\n",
    "prompt_en_to_de = ChatPromptTemplate.from_messages(\n",
    "    [\n",
    "        (\n",
    "            \"system\",\n",
    "            \"You are a helpful assistant that translates English to German.\",\n",
    "        ),\n",
    "        (\"human\", \"{input}\"),\n",
    "    ]\n",
    ")\n",
    "\n",
    "chain_en_to_de = LLMChain(prompt=prompt_en_to_de, llm=llm)"
   ]
  },
  {
   "cell_type": "code",
   "execution_count": 10,
   "metadata": {},
   "outputs": [],
   "source": [
    "\n",
    "prompt_de_to_it = ChatPromptTemplate.from_messages(\n",
    "    [\n",
    "        (\n",
    "            \"system\",\n",
    "            \"You are a helpful assistant that translates German to Italian.\",\n",
    "        ),\n",
    "        (\"human\", \"{input}\"),\n",
    "    ]\n",
    ")\n",
    "\n",
    "chain_de_to_it = LLMChain(prompt=prompt_de_to_it, llm=llm)\n"
   ]
  },
  {
   "cell_type": "code",
   "execution_count": 11,
   "metadata": {},
   "outputs": [
    {
     "name": "stderr",
     "output_type": "stream",
     "text": [
      "C:\\Users\\Lakshit Wasan\\AppData\\Local\\Temp\\ipykernel_11516\\3499640821.py:10: LangChainDeprecationWarning: The method `Chain.run` was deprecated in langchain 0.1.0 and will be removed in 1.0. Use :meth:`~invoke` instead.\n",
      "  result = sequential_chain.run(input_data)\n"
     ]
    },
    {
     "name": "stdout",
     "output_type": "stream",
     "text": [
      "\n",
      "\n",
      "\u001b[1m> Entering new SimpleSequentialChain chain...\u001b[0m\n",
      "\u001b[36;1m\u001b[1;3mIch liebe Programmierung.\u001b[0m\n",
      "\u001b[33;1m\u001b[1;3mTi piace programmazione.\u001b[0m\n",
      "\n",
      "\u001b[1m> Finished chain.\u001b[0m\n",
      "Ti piace programmazione.\n"
     ]
    }
   ],
   "source": [
    "\n",
    "sequential_chain = SimpleSequentialChain(\n",
    "    chains=[chain_en_to_de, chain_de_to_it],\n",
    "    verbose=True\n",
    ")\n",
    "\n",
    "input_data = {\n",
    "    \"input\": \"I love programming.\"\n",
    "}\n",
    "\n",
    "result = sequential_chain.run(input_data)\n",
    "\n",
    "print(result)"
   ]
  },
  {
   "cell_type": "markdown",
   "metadata": {},
   "source": [
    "### RESTAURANT NAME SUGGESTOR"
   ]
  },
  {
   "cell_type": "code",
   "execution_count": 12,
   "metadata": {},
   "outputs": [
    {
     "data": {
      "text/plain": [
       "AIMessage(content='Bellissima idea!\\n\\nFor an Italian restaurant, I\\'d suggest names that evoke the country\\'s rich history, culture, and of course, delicious cuisine. Here are a few ideas to get you started:\\n\\n1. Bella Vita (Beautiful Life): This name captures the essence of Italian living, emphasizing the joy and simplicity of good food, family, and friends.\\n2. Tavola Italian Kitchen: \"Tavola\" means \"table\" in Italian, and this name suggests a warm, inviting atmosphere where guests can gather to enjoy a home-cooked meal.\\n3. Caffè Italiano: This name incorporates the classic Italian coffee culture, perfect for a restaurant that serves a variety of coffee drinks and pastries alongside your Italian dishes.\\n4. La Famiglia: This name translates to \"the family\" in Italian, emphasizing the warmth and hospitality that Italian cuisine is known for.\\n5. Vino e Pasta: This name combines two of Italy\\'s favorite things – wine and pasta – and suggests a restaurant that\\'s perfect for a cozy night out or a special occasion.\\n6. Bistro Bruno: \"Bistro\" is a classic Italian term, and adding \"Bruno\" gives the name a rustic, charming touch.\\n7. Gusto: This name means \"flavor\" or \"taste\" in Italian, and it\\'s a great way to emphasize the bold flavors and aromas of your Italian dishes.\\n8. La Dolce Vita: This name translates to \"the sweet life,\" which is perfect for a restaurant that serves decadent desserts and other sweet treats alongside your savory dishes.\\n\\nI hope one of these names inspires you! Buon appetito!', additional_kwargs={}, response_metadata={'token_usage': {'completion_tokens': 337, 'prompt_tokens': 50, 'total_tokens': 387, 'completion_time': 0.280833333, 'prompt_time': 0.006523835, 'queue_time': 0.006590393999999999, 'total_time': 0.287357168}, 'model_name': 'llama3-8b-8192', 'system_fingerprint': 'fp_179b0f92c9', 'finish_reason': 'stop', 'logprobs': None}, id='run-01d0cad4-498c-4ea1-8b51-3ad788b80076-0', usage_metadata={'input_tokens': 50, 'output_tokens': 337, 'total_tokens': 387})"
      ]
     },
     "execution_count": 12,
     "metadata": {},
     "output_type": "execute_result"
    }
   ],
   "source": [
    "messages = [\n",
    "    (\n",
    "        \"system\",\n",
    "        \"You are a helpful assistant that suggests names for restaurants based on the user's preferences.\",\n",
    "    ),\n",
    "    (\n",
    "        \"human\",\n",
    "        \"I want to open a restaurant for Italian food. Suggest a name for my restaurant.\",\n",
    "    ),\n",
    "]\n",
    "\n",
    "ai_msg = llm.invoke(messages)\n",
    "ai_msg"
   ]
  },
  {
   "cell_type": "code",
   "execution_count": 13,
   "metadata": {},
   "outputs": [
    {
     "name": "stdout",
     "output_type": "stream",
     "text": [
      "Bellissima idea!\n",
      "\n",
      "For an Italian restaurant, I'd suggest names that evoke the country's rich history, culture, and of course, delicious cuisine. Here are a few ideas to get you started:\n",
      "\n",
      "1. Bella Vita (Beautiful Life): This name captures the essence of Italian living, emphasizing the joy and simplicity of good food, family, and friends.\n",
      "2. Tavola Italian Kitchen: \"Tavola\" means \"table\" in Italian, and this name suggests a warm, inviting atmosphere where guests can gather to enjoy a home-cooked meal.\n",
      "3. Caffè Italiano: This name incorporates the classic Italian coffee culture, perfect for a restaurant that serves a variety of coffee drinks and pastries alongside your Italian dishes.\n",
      "4. La Famiglia: This name translates to \"the family\" in Italian, emphasizing the warmth and hospitality that Italian cuisine is known for.\n",
      "5. Vino e Pasta: This name combines two of Italy's favorite things – wine and pasta – and suggests a restaurant that's perfect for a cozy night out or a special occasion.\n",
      "6. Bistro Bruno: \"Bistro\" is a classic Italian term, and adding \"Bruno\" gives the name a rustic, charming touch.\n",
      "7. Gusto: This name means \"flavor\" or \"taste\" in Italian, and it's a great way to emphasize the bold flavors and aromas of your Italian dishes.\n",
      "8. La Dolce Vita: This name translates to \"the sweet life,\" which is perfect for a restaurant that serves decadent desserts and other sweet treats alongside your savory dishes.\n",
      "\n",
      "I hope one of these names inspires you! Buon appetito!\n"
     ]
    }
   ],
   "source": [
    "print(ai_msg.content)"
   ]
  },
  {
   "cell_type": "markdown",
   "metadata": {},
   "source": [
    "### Prompt Templating"
   ]
  },
  {
   "cell_type": "code",
   "execution_count": 14,
   "metadata": {},
   "outputs": [
    {
     "data": {
      "text/plain": [
       "AIMessage(content='What a delicious venture! I\\'d be happy to help you come up with a name for your Indian restaurant. Here are some suggestions:\\n\\n1. **SpiceRoute**: Inspired by the ancient spice trade routes that connected India to the world, this name suggests a culinary journey.\\n2. **Tandoor Tales**: Tandoor is a traditional Indian clay oven, and \"Tales\" implies stories and flavors to be shared. It\\'s a catchy and memorable name.\\n3. **Mumbai Mosaic**: Mumbai is India\\'s financial capital and a melting pot of cultures, food, and lifestyles. \"Mosaic\" represents the diverse flavors and dishes you\\'ll serve.\\n4. **Garam Gourmet**: \"Garam\" means warm or spicy in Hindi, while \"Gourmet\" emphasizes the refined flavor profiles of your dishes.\\n5. **Bazaar Bites**: \"Bazaar\" evokes the vibrant, colorful atmosphere of Indian markets, while \"Bites\" suggests a variety of small plates and shareable dishes.\\n6. **Aahar**: \"Aahar\" is the Hindi word for \"food\" or \"feast,\" making it a fitting and unique name for your restaurant.\\n7. **Saffron & Scents**: Saffron is a prized Indian spice, while \"Scents\" alludes to the aromatic flavors and fragrances of Indian cuisine.\\n8. **Dhaba Delhi**: \"Dhaba\" is a Punjabi word for a humble, roadside eatery, while \"Delhi\" references the Indian capital\\'s rich culinary heritage.\\n9. **Kadhai Kitchen**: \"Kadhai\" is a type of Indian wok, and \"Kitchen\" emphasizes the heart of your restaurant, where delicious dishes are prepared.\\n10. **Gharam**: This name, inspired by the Hindi word for \"love,\" conveys the affection and care that goes into preparing each dish.\\n\\nI hope these suggestions help you find the perfect name for your Indian restaurant!', additional_kwargs={}, response_metadata={'token_usage': {'completion_tokens': 405, 'prompt_tokens': 51, 'total_tokens': 456, 'completion_time': 0.3375, 'prompt_time': 0.006101816, 'queue_time': 0.008195043999999999, 'total_time': 0.343601816}, 'model_name': 'llama3-8b-8192', 'system_fingerprint': 'fp_a97cfe35ae', 'finish_reason': 'stop', 'logprobs': None}, id='run-8766fcce-179a-4f69-bd7b-ae20310ea8f1-0', usage_metadata={'input_tokens': 51, 'output_tokens': 405, 'total_tokens': 456})"
      ]
     },
     "execution_count": 14,
     "metadata": {},
     "output_type": "execute_result"
    }
   ],
   "source": [
    "from langchain_core.prompts import ChatPromptTemplate\n",
    "\n",
    "prompt_template_name = ChatPromptTemplate.from_messages(\n",
    "    [\n",
    "        (\n",
    "        \"system\",\n",
    "        \"You are a helpful assistant that suggests names for restaurants based on the user's preferences.\",\n",
    "    ),\n",
    "    (\n",
    "        \"human\",\n",
    "        \"I want to open a restaurant for {cuisine} food. Suggest a name for my restaurant.\",\n",
    "    ),\n",
    "    ]\n",
    ")\n",
    "\n",
    "chain = prompt_template_name | llm\n",
    "ai_msg = chain.invoke(\n",
    "    {\n",
    "        \"cuisine\": \"Indian.\",\n",
    "    }\n",
    ")\n",
    "ai_msg"
   ]
  },
  {
   "cell_type": "code",
   "execution_count": 15,
   "metadata": {},
   "outputs": [
    {
     "name": "stdout",
     "output_type": "stream",
     "text": [
      "What a delicious venture! I'd be happy to help you come up with a name for your Indian restaurant. Here are some suggestions:\n",
      "\n",
      "1. **SpiceRoute**: Inspired by the ancient spice trade routes that connected India to the world, this name suggests a culinary journey.\n",
      "2. **Tandoor Tales**: Tandoor is a traditional Indian clay oven, and \"Tales\" implies stories and flavors to be shared. It's a catchy and memorable name.\n",
      "3. **Mumbai Mosaic**: Mumbai is India's financial capital and a melting pot of cultures, food, and lifestyles. \"Mosaic\" represents the diverse flavors and dishes you'll serve.\n",
      "4. **Garam Gourmet**: \"Garam\" means warm or spicy in Hindi, while \"Gourmet\" emphasizes the refined flavor profiles of your dishes.\n",
      "5. **Bazaar Bites**: \"Bazaar\" evokes the vibrant, colorful atmosphere of Indian markets, while \"Bites\" suggests a variety of small plates and shareable dishes.\n",
      "6. **Aahar**: \"Aahar\" is the Hindi word for \"food\" or \"feast,\" making it a fitting and unique name for your restaurant.\n",
      "7. **Saffron & Scents**: Saffron is a prized Indian spice, while \"Scents\" alludes to the aromatic flavors and fragrances of Indian cuisine.\n",
      "8. **Dhaba Delhi**: \"Dhaba\" is a Punjabi word for a humble, roadside eatery, while \"Delhi\" references the Indian capital's rich culinary heritage.\n",
      "9. **Kadhai Kitchen**: \"Kadhai\" is a type of Indian wok, and \"Kitchen\" emphasizes the heart of your restaurant, where delicious dishes are prepared.\n",
      "10. **Gharam**: This name, inspired by the Hindi word for \"love,\" conveys the affection and care that goes into preparing each dish.\n",
      "\n",
      "I hope these suggestions help you find the perfect name for your Indian restaurant!\n"
     ]
    }
   ],
   "source": [
    "print(ai_msg.content)"
   ]
  },
  {
   "cell_type": "markdown",
   "metadata": {},
   "source": [
    "### Simple Sequential Chain"
   ]
  },
  {
   "cell_type": "code",
   "execution_count": 16,
   "metadata": {},
   "outputs": [],
   "source": [
    "\n",
    "from langchain_core.prompts import ChatPromptTemplate\n",
    "from langchain.chains import SimpleSequentialChain, LLMChain\n",
    "\n",
    "prompt_template_name = ChatPromptTemplate.from_messages(\n",
    "    [\n",
    "        (\n",
    "        \"system\",\n",
    "        \"You are a helpful assistant that suggests a single name for restaurant based on the user's preferences.\",\n",
    "    ),\n",
    "    (\n",
    "        \"human\",\n",
    "        \"I want to open a restaurant for {cuisine} food. Suggest a name for my restaurant.\",\n",
    "    ),\n",
    "    ]\n",
    ")\n",
    "\n",
    "chain_name = LLMChain(prompt=prompt_template_name, llm=llm)"
   ]
  },
  {
   "cell_type": "code",
   "execution_count": 17,
   "metadata": {},
   "outputs": [],
   "source": [
    "\n",
    "prompt_template_menu = ChatPromptTemplate.from_messages(\n",
    "    [\n",
    "        (\n",
    "        \"system\",\n",
    "        \"You are a helpful assistant that suggests menu items for restaurants based on the restaurant's name.\",\n",
    "    ),\n",
    "    (\n",
    "        \"human\",\n",
    "        \"I want to open a restaurant for {restaurant_name} food. Suggest menu items.\",\n",
    "    ),\n",
    "    ]\n",
    ")\n",
    "\n",
    "chain_menu = LLMChain(prompt=prompt_template_menu, llm=llm)\n"
   ]
  },
  {
   "cell_type": "code",
   "execution_count": 18,
   "metadata": {},
   "outputs": [
    {
     "name": "stdout",
     "output_type": "stream",
     "text": [
      "\n",
      "\n",
      "\u001b[1m> Entering new SimpleSequentialChain chain...\u001b[0m\n",
      "\u001b[36;1m\u001b[1;3mWhat a wonderful idea!\n",
      "\n",
      "I'd be happy to help you come up with a name for your Indian restaurant. Here's a suggestion:\n",
      "\n",
      "**Tandoor Tales**\n",
      "\n",
      "\"Tandoor\" is a nod to the traditional Indian clay oven, which is often used to cook naan bread and other dishes. \"Tales\" implies a story or a journey, which could represent the rich cultural heritage and history of Indian cuisine.\n",
      "\n",
      "This name is catchy, easy to remember, and it immediately conveys a sense of what your restaurant is about. Plus, it has a nice ring to it!\n",
      "\n",
      "What do you think? Would you like me to suggest any other options or modifications?\u001b[0m\n",
      "\u001b[33;1m\u001b[1;3mI love the name \"Tandoor Tales\"! It's unique, memorable, and evocative of the culinary experiences you'll offer. With this name, I imagine a cozy and inviting atmosphere, where the aromas of spices and freshly baked naan waft through the air, transporting customers on a gastronomic journey through India.\n",
      "\n",
      "Now, let's talk about the menu! Here are some suggestions:\n",
      "\n",
      "**Appetizers**\n",
      "\n",
      "1. \"The Spice Route\" - A selection of bite-sized samosas, paneer tikka, and papdi chaat, served with a side of cilantro chutney.\n",
      "2. \"Tandoori Tale\" - Tandoor-cooked chicken or vegetable skewers, marinated in a blend of Indian spices, served with a dollop of cucumber raita.\n",
      "\n",
      "**Main Course**\n",
      "\n",
      "1. \"Maharaja's Delight\" - A rich and flavorful chicken tikka masala, served with basmati rice, naan bread, and a side of mixed vegetables.\n",
      "2. \"Vindaloo Voyage\" - A spicy and tangy lamb vindaloo, served with saffron-infused basmati rice and a side of garlic naan.\n",
      "\n",
      "**Sides**\n",
      "\n",
      "1. \"Bombay Bazaar\" - A medley of sautéed vegetables, including bell peppers, onions, and mushrooms, cooked in a blend of Indian spices.\n",
      "2. \"Garam Masala Fries\" - Crispy fries tossed in a warm blend of garam masala and herbs, served with a dollop of cilantro chutney.\n",
      "\n",
      "**Desserts**\n",
      "\n",
      "1. \"Mumbai Magic\" - A decadent and creamy kulfi falooda, served with chopped nuts and a sprinkle of cardamom powder.\n",
      "2. \"Gulab Jamun Getaway\" - Warm and gooey gulab jamun dumplings, served with a sweet and sticky syrup and a dollop of whipped cream.\n",
      "\n",
      "These menu items are designed to take customers on a culinary journey through India, with dishes inspired by the rich cultural heritage and diverse regional cuisines of the country. Bon appétit!\u001b[0m\n",
      "\n",
      "\u001b[1m> Finished chain.\u001b[0m\n",
      "I love the name \"Tandoor Tales\"! It's unique, memorable, and evocative of the culinary experiences you'll offer. With this name, I imagine a cozy and inviting atmosphere, where the aromas of spices and freshly baked naan waft through the air, transporting customers on a gastronomic journey through India.\n",
      "\n",
      "Now, let's talk about the menu! Here are some suggestions:\n",
      "\n",
      "**Appetizers**\n",
      "\n",
      "1. \"The Spice Route\" - A selection of bite-sized samosas, paneer tikka, and papdi chaat, served with a side of cilantro chutney.\n",
      "2. \"Tandoori Tale\" - Tandoor-cooked chicken or vegetable skewers, marinated in a blend of Indian spices, served with a dollop of cucumber raita.\n",
      "\n",
      "**Main Course**\n",
      "\n",
      "1. \"Maharaja's Delight\" - A rich and flavorful chicken tikka masala, served with basmati rice, naan bread, and a side of mixed vegetables.\n",
      "2. \"Vindaloo Voyage\" - A spicy and tangy lamb vindaloo, served with saffron-infused basmati rice and a side of garlic naan.\n",
      "\n",
      "**Sides**\n",
      "\n",
      "1. \"Bombay Bazaar\" - A medley of sautéed vegetables, including bell peppers, onions, and mushrooms, cooked in a blend of Indian spices.\n",
      "2. \"Garam Masala Fries\" - Crispy fries tossed in a warm blend of garam masala and herbs, served with a dollop of cilantro chutney.\n",
      "\n",
      "**Desserts**\n",
      "\n",
      "1. \"Mumbai Magic\" - A decadent and creamy kulfi falooda, served with chopped nuts and a sprinkle of cardamom powder.\n",
      "2. \"Gulab Jamun Getaway\" - Warm and gooey gulab jamun dumplings, served with a sweet and sticky syrup and a dollop of whipped cream.\n",
      "\n",
      "These menu items are designed to take customers on a culinary journey through India, with dishes inspired by the rich cultural heritage and diverse regional cuisines of the country. Bon appétit!\n"
     ]
    }
   ],
   "source": [
    "\n",
    "simple_sequential_chain = SimpleSequentialChain(\n",
    "    chains=[chain_name, chain_menu],\n",
    "    verbose=True\n",
    ")\n",
    "\n",
    "input_data = {\n",
    "    \"input\": \"Indian\"\n",
    "}\n",
    "\n",
    "result = simple_sequential_chain.run(input_data)\n",
    "\n",
    "print(result)"
   ]
  },
  {
   "cell_type": "markdown",
   "metadata": {},
   "source": [
    "### Sequential Chain"
   ]
  },
  {
   "cell_type": "code",
   "execution_count": 19,
   "metadata": {},
   "outputs": [],
   "source": [
    "\n",
    "from langchain_core.prompts import PromptTemplate\n",
    "from langchain.chains import SequentialChain, LLMChain\n",
    "\n",
    "prompt_template_name = PromptTemplate(\n",
    "    \n",
    "        input_variables = [\"cuisine\"],\n",
    "        template = \"I want to open a restaurant for {cuisine} food. Suggest only a single name for my restaurant.\",\n",
    "    \n",
    ")\n",
    "\n",
    "chain_name = LLMChain(prompt=prompt_template_name, llm=llm, output_key=\"restaurant_name\")"
   ]
  },
  {
   "cell_type": "code",
   "execution_count": 20,
   "metadata": {},
   "outputs": [],
   "source": [
    "\n",
    "\n",
    "prompt_template_menu = PromptTemplate(\n",
    "    \n",
    "        input_variables = [\"restaurant_name\"],\n",
    "        template = \"Suggestions for menu items for {restaurant_name} restaurant.\",\n",
    "    \n",
    ")\n",
    "\n",
    "chain_menu = LLMChain(prompt=prompt_template_menu, llm=llm, output_key=\"menu_items\")\n"
   ]
  },
  {
   "cell_type": "code",
   "execution_count": 21,
   "metadata": {},
   "outputs": [
    {
     "name": "stdout",
     "output_type": "stream",
     "text": [
      "\n",
      "\n",
      "\u001b[1m> Entering new SequentialChain chain...\u001b[0m\n"
     ]
    },
    {
     "name": "stderr",
     "output_type": "stream",
     "text": [
      "C:\\Users\\Lakshit Wasan\\AppData\\Local\\Temp\\ipykernel_11516\\3307637399.py:9: LangChainDeprecationWarning: The method `Chain.__call__` was deprecated in langchain 0.1.0 and will be removed in 1.0. Use :meth:`~invoke` instead.\n",
      "  sequential_chain({\"cuisine\": \"Indian\"})\n"
     ]
    },
    {
     "name": "stdout",
     "output_type": "stream",
     "text": [
      "\n",
      "\u001b[1m> Finished chain.\u001b[0m\n"
     ]
    },
    {
     "data": {
      "text/plain": [
       "{'cuisine': 'Indian',\n",
       " 'menu_items': 'I love the suggestion! \"Tiffin Box\" is a unique and memorable name that perfectly captures the essence of Indian culture. Here are some menu item suggestions that fit the theme:\\n\\n**Breakfast Tiffins**\\n\\n* Morning Masala: Scrambled eggs, spiced potatoes, and crispy onions in a toasted naan wrap\\n* Tiffin Treat: A mix of fresh fruits, nuts, and milk-based drinks, served in a reusable tiffin box\\n\\n**Lunchbox Specials**\\n\\n* Office Favorite: A classic combo of chicken tikka masala, basmati rice, and naan bread\\n* Student\\'s Delight: A vegetarian option with a variety of chana masala, saag paneer, and raita\\n* Tiffin Trio: A sampling of three popular dishes - chicken biryani, vegetable korma, and garlic naan\\n\\n**Beverages**\\n\\n* Chaai Wallah: A specialty tea blend with a touch of cardamom and ginger\\n* Thali Lassi: A yogurt-based drink flavored with cumin, coriander, and a hint of spice\\n* Tiffin Tonic: A refreshing blend of lemon, ginger, and mint\\n\\n**Desserts**\\n\\n* Mithai Morsel: A selection of traditional Indian sweets, including gulab jamun, jalebi, and barfi\\n* Tiffin Tart: A modern twist on the traditional Indian sweet, with a crumbly crust and creamy filling\\n\\n**Special Items**\\n\\n* Tiffin Box Combo: A selection of three popular dishes, served with a side of basmati rice and naan bread\\n* Dabbawala\\'s Delight: A special vegetarian thali, featuring a variety of dishes served in a reusable tiffin box\\n\\nI hope these menu item suggestions inspire you and help you create a unique dining experience for your customers at Tiffin Box!',\n",
       " 'restaurant_name': 'Congratulations on your venture!\\n\\nAfter considering various options, I\\'d like to suggest a single name for your Indian restaurant:\\n\\n**Tiffin Box**\\n\\n\"Tiffin\" is a popular Indian term that refers to a lunchbox or a container used to carry food, especially for office-goers or students. It\\'s a quintessential part of Indian culture. Using this word as the name for your restaurant will immediately evoke a sense of familiarity and authenticity.\\n\\nAdditionally, the name \"Tiffin Box\" is catchy, easy to remember, and has a nice ring to it. It also leaves room for creative branding and marketing opportunities, such as featuring a stylized tiffin box logo or incorporating the theme into your restaurant\\'s decor.\\n\\nI hope you like the suggestion!'}"
      ]
     },
     "execution_count": 21,
     "metadata": {},
     "output_type": "execute_result"
    }
   ],
   "source": [
    "sequential_chain = SequentialChain(\n",
    "    chains=[chain_name, chain_menu],\n",
    "    input_variables=[\"cuisine\"],\n",
    "    output_variables={\"restaurant_name\", \"menu_items\"},\n",
    "    verbose=True\n",
    ")\n",
    "\n",
    "\n",
    "sequential_chain({\"cuisine\": \"Indian\"})"
   ]
  },
  {
   "cell_type": "markdown",
   "metadata": {},
   "source": [
    "### CODE WRITTER"
   ]
  },
  {
   "cell_type": "code",
   "execution_count": 22,
   "metadata": {},
   "outputs": [
    {
     "data": {
      "text/plain": [
       "AIMessage(content=\"Below is a Python script that uses Keras and TensorFlow to train a neural network to classify images using the CIFAR-10 dataset. The dataset consists of 60,000 32x32 color images in 10 classes, with 6,000 images per class.\\n\\n```\\n# Import necessary libraries\\nfrom keras.models import Sequential\\nfrom keras.layers import Dense, Dropout, Activation, Flatten\\nfrom keras.layers import Conv2D, MaxPooling2D\\nfrom keras.optimizers import SGD\\nfrom keras.preprocessing.image import ImageDataGenerator\\nimport numpy as np\\nimport os\\n\\n# Load the CIFAR-10 dataset\\ntrain_dir = 'path_to_your_cifar10_dataset/train'\\nvalidation_dir = 'path_to_your_cifar10_dataset/validation'\\ntest_dir = 'path_to_your_cifar10_dataset/test'\\n\\ntrain_datagen = ImageDataGenerator(\\n    rescale=1./255,\\n    rotation_range=30,\\n    width_shift_range=0.3,\\n    height_shift_range=0.3,\\n    horizontal_flip=True,\\n    fill_mode='nearest')\\n\\nvalidation_datagen = ImageDataGenerator(rescale=1./255)\\n\\ntest_datagen = ImageDataGenerator(rescale=1./255)\\n\\ntrain_generator = train_datagen.flow_from_directory(\\n    train_dir,\\n    target_size=(32, 32),\\n    batch_size=20,\\n    class_mode='categorical')\\n\\nvalidation_generator = validation_datagen.flow_from_directory(\\n    validation_dir,\\n    target_size=(32, 32),\\n    batch_size=20,\\n    class_mode='categorical')\\n\\ntest_generator = test_datagen.flow_from_directory(\\n    test_dir,\\n    target_size=(32, 32),\\n    batch_size=20,\\n    class_mode='categorical')\\n\\n# Define the CNN model\\nmodel = Sequential()\\n\\nmodel.add(Conv2D(32, (3, 3), activation='relu', input_shape=(32, 32, 3)))\\nmodel.add(Conv2D(32, (3, 3), activation='relu'))\\nmodel.add(MaxPooling2D(pool_size=(2, 2)))\\n\\nmodel.add(Conv2D(64, (3, 3), activation='relu'))\\nmodel.add(Conv2D(64, (3, 3), activation='relu'))\\nmodel.add(MaxPooling2D(pool_size=(2, 2)))\\n\\nmodel.add(Flatten())\\nmodel.add(Dense(64, activation='relu'))\\nmodel.add(Dropout(0.5))\\nmodel.add(Dense(10, activation='softmax'))\\n\\n# Compile the model\\nmodel.compile(loss='categorical_crossentropy', optimizer=SGD(lr=0.01, momentum=0.9), metrics=['accuracy'])\\n\\n# Train the model\\nhistory = model.fit(\\n    train_generator,\\n    epochs=10,\\n    validation_data=validation_generator)\\n\\n# Evaluate the model on the test set\\ntest_loss, test_acc = model.evaluate(test_generator)\\nprint(f'Test accuracy: {test_acc:.2f}%')\\n\\n# Save the model to a file\\nmodel.save('cifar10_model.h5')\\n```\\n\\nIn this script, we're using a convolutional neural network (CNN) as it's well-suited for image classification tasks. The CNN model consists of several convolutional and max-pooling layers followed by a few fully connected (dense) layers at the end. The output layer is a softmax layer with 10 neurons (one for each class in the CIFAR-10 dataset).\\n\\nThe model is trained using the categorical cross-entropy loss function and the Stochastic Gradient Descent (SGD) optimizer. The model is trained for 10 epochs with a batch size of 20.\\n\\nAfter training, the model is evaluated on the test set and the test accuracy is printed. Finally, the model is saved to a file named 'cifar10_model.h5'.\\n\\nRemember to replace 'path_to_your_cifar10_dataset/train', 'path_to_your_cifar10_dataset/validation', and 'path_to_your_cifar10_dataset/test' with the actual paths to your CIFAR-10 dataset.\", additional_kwargs={}, response_metadata={'token_usage': {'completion_tokens': 829, 'prompt_tokens': 43, 'total_tokens': 872, 'completion_time': 0.690833333, 'prompt_time': 0.008173408, 'queue_time': 0.015737579, 'total_time': 0.699006741}, 'model_name': 'llama3-8b-8192', 'system_fingerprint': 'fp_af05557ca2', 'finish_reason': 'stop', 'logprobs': None}, id='run-7a9a0c14-5281-4470-8cd7-370fe41a1e23-0', usage_metadata={'input_tokens': 43, 'output_tokens': 829, 'total_tokens': 872})"
      ]
     },
     "execution_count": 22,
     "metadata": {},
     "output_type": "execute_result"
    }
   ],
   "source": [
    "messages = [\n",
    "    (\n",
    "        \"system\",\n",
    "        \"You are an expert data scientist that helps users with their data analysis tasks.\",\n",
    "    ),\n",
    "    (\n",
    "        \"human\",\n",
    "        \"Write a python script that trains a neural network to classify images.\",\n",
    "    ),\n",
    "]\n",
    "\n",
    "ai_msg = llm.invoke(messages)\n",
    "ai_msg"
   ]
  },
  {
   "cell_type": "code",
   "execution_count": 23,
   "metadata": {},
   "outputs": [
    {
     "name": "stdout",
     "output_type": "stream",
     "text": [
      "Below is a Python script that uses Keras and TensorFlow to train a neural network to classify images using the CIFAR-10 dataset. The dataset consists of 60,000 32x32 color images in 10 classes, with 6,000 images per class.\n",
      "\n",
      "```\n",
      "# Import necessary libraries\n",
      "from keras.models import Sequential\n",
      "from keras.layers import Dense, Dropout, Activation, Flatten\n",
      "from keras.layers import Conv2D, MaxPooling2D\n",
      "from keras.optimizers import SGD\n",
      "from keras.preprocessing.image import ImageDataGenerator\n",
      "import numpy as np\n",
      "import os\n",
      "\n",
      "# Load the CIFAR-10 dataset\n",
      "train_dir = 'path_to_your_cifar10_dataset/train'\n",
      "validation_dir = 'path_to_your_cifar10_dataset/validation'\n",
      "test_dir = 'path_to_your_cifar10_dataset/test'\n",
      "\n",
      "train_datagen = ImageDataGenerator(\n",
      "    rescale=1./255,\n",
      "    rotation_range=30,\n",
      "    width_shift_range=0.3,\n",
      "    height_shift_range=0.3,\n",
      "    horizontal_flip=True,\n",
      "    fill_mode='nearest')\n",
      "\n",
      "validation_datagen = ImageDataGenerator(rescale=1./255)\n",
      "\n",
      "test_datagen = ImageDataGenerator(rescale=1./255)\n",
      "\n",
      "train_generator = train_datagen.flow_from_directory(\n",
      "    train_dir,\n",
      "    target_size=(32, 32),\n",
      "    batch_size=20,\n",
      "    class_mode='categorical')\n",
      "\n",
      "validation_generator = validation_datagen.flow_from_directory(\n",
      "    validation_dir,\n",
      "    target_size=(32, 32),\n",
      "    batch_size=20,\n",
      "    class_mode='categorical')\n",
      "\n",
      "test_generator = test_datagen.flow_from_directory(\n",
      "    test_dir,\n",
      "    target_size=(32, 32),\n",
      "    batch_size=20,\n",
      "    class_mode='categorical')\n",
      "\n",
      "# Define the CNN model\n",
      "model = Sequential()\n",
      "\n",
      "model.add(Conv2D(32, (3, 3), activation='relu', input_shape=(32, 32, 3)))\n",
      "model.add(Conv2D(32, (3, 3), activation='relu'))\n",
      "model.add(MaxPooling2D(pool_size=(2, 2)))\n",
      "\n",
      "model.add(Conv2D(64, (3, 3), activation='relu'))\n",
      "model.add(Conv2D(64, (3, 3), activation='relu'))\n",
      "model.add(MaxPooling2D(pool_size=(2, 2)))\n",
      "\n",
      "model.add(Flatten())\n",
      "model.add(Dense(64, activation='relu'))\n",
      "model.add(Dropout(0.5))\n",
      "model.add(Dense(10, activation='softmax'))\n",
      "\n",
      "# Compile the model\n",
      "model.compile(loss='categorical_crossentropy', optimizer=SGD(lr=0.01, momentum=0.9), metrics=['accuracy'])\n",
      "\n",
      "# Train the model\n",
      "history = model.fit(\n",
      "    train_generator,\n",
      "    epochs=10,\n",
      "    validation_data=validation_generator)\n",
      "\n",
      "# Evaluate the model on the test set\n",
      "test_loss, test_acc = model.evaluate(test_generator)\n",
      "print(f'Test accuracy: {test_acc:.2f}%')\n",
      "\n",
      "# Save the model to a file\n",
      "model.save('cifar10_model.h5')\n",
      "```\n",
      "\n",
      "In this script, we're using a convolutional neural network (CNN) as it's well-suited for image classification tasks. The CNN model consists of several convolutional and max-pooling layers followed by a few fully connected (dense) layers at the end. The output layer is a softmax layer with 10 neurons (one for each class in the CIFAR-10 dataset).\n",
      "\n",
      "The model is trained using the categorical cross-entropy loss function and the Stochastic Gradient Descent (SGD) optimizer. The model is trained for 10 epochs with a batch size of 20.\n",
      "\n",
      "After training, the model is evaluated on the test set and the test accuracy is printed. Finally, the model is saved to a file named 'cifar10_model.h5'.\n",
      "\n",
      "Remember to replace 'path_to_your_cifar10_dataset/train', 'path_to_your_cifar10_dataset/validation', and 'path_to_your_cifar10_dataset/test' with the actual paths to your CIFAR-10 dataset.\n"
     ]
    }
   ],
   "source": [
    "print(ai_msg.content)"
   ]
  },
  {
   "cell_type": "markdown",
   "metadata": {},
   "source": [
    "## Agents"
   ]
  },
  {
   "cell_type": "code",
   "execution_count": 86,
   "metadata": {},
   "outputs": [
    {
     "name": "stdout",
     "output_type": "stream",
     "text": [
      "\n",
      "\n",
      "\u001b[1m> Entering new AgentExecutor chain...\u001b[0m\n",
      "\u001b[32;1m\u001b[1;3mThought: To find Elon Musk's birthdate I need to use Wikipedia. \n",
      "Action: wikipedia\n",
      "Action Input: Elon Musk\u001b[0m\n",
      "Observation: \u001b[36;1m\u001b[1;3mPage: Elon Musk\n",
      "Summary: Elon Reeve Musk  (; born June 28, 1971) is a businessman and investor known for his key roles in the space company SpaceX and the automotive company Tesla, Inc. Other involvements include ownership of X Corp., the company that operates the social media platform X (formerly known as Twitter), and his role in the founding of the Boring Company, xAI, Neuralink, and OpenAI. He is one of the wealthiest individuals in the world; as of August 2024 Forbes estimates his net worth to be US$247 billion.\n",
      "Musk was born in Pretoria, South Africa, to Maye (née Haldeman), a model, and Errol Musk, a businessman and engineer. Musk briefly attended the University of Pretoria before immigrating to Canada at the age of 18, acquiring citizenship through his Canadian-born mother. Two years later he matriculated at Queen's University at Kingston in Canada. Musk later transferred to the University of Pennsylvania and received bachelor's degrees in economics and physics. He moved to California in 1995 to attend Stanford University, but dropped out after two days and, with his brother Kimbal, co-founded the online city guide software company Zip2. The startup was acquired by Compaq for $307 million in 1999. That same year Musk co-founded X.com, a direct bank. X.com merged with Confinity in 2000 to form PayPal. In 2002 Musk acquired US citizenship. That October  eBay acquired PayPal for $1.5 billion. Using $100 million of the money he made from the sale of PayPal, Musk founded SpaceX, a spaceflight services company, in 2002. \n",
      "In 2004, Musk was an early investor who provided most of the initial financing in the electric-vehicle manufacturer Tesla Motors, Inc. (later Tesla, Inc.), assuming the position of the company's chairman. He later became the product architect and, in 2008, the CEO. In 2006, Musk helped create SolarCity, a solar energy company that was acquired by Tesla in 2016 and became Tesla Energy. In 2013, he proposed a hyperloop high-speed vactrain transportation system. In 2015, he co-founded OpenAI, a nonprofit artificial intelligence research company. The following year Musk co-founded Neuralink, a neurotechnology company developing brain–computer interfaces, and The Boring Company, a tunnel construction company. In 2018 the U.S. Securities and Exchange Commission (SEC) sued Musk, alleging that he had falsely announced that he had secured funding for a private takeover of Tesla. To settle the case Musk stepped down as the chairman of Tesla and paid a $20 million fine. In 2022, he acquired Twitter for $44 billion, merged the company into the newly-created X Corp. and rebranded the service as X the following year. In March 2023, Musk founded xAI, an artificial-intelligence company.\n",
      "Musk has expressed views that have made him a polarizing figure. He has been criticized for making unscientific and misleading statements, including COVID-19 misinformation, promoting right-wing conspiracy theories, and \"endorsing an antisemitic theory\"; he later apologized for the last of these. His ownership of Twitter has been controversial because of the layoffs of large numbers of employees, an increase in hate speech, misinformation and disinformation posts on the website, and changes to website features, including Twitter Blue verification.\n",
      "\n",
      "Page: Views of Elon Musk\n",
      "Summary: Elon Musk is the CEO or owner of multiple companies including Tesla, SpaceX, and X Corp, and has expressed many views on a wide variety of subjects, ranging from politics to science.\n",
      "Musk has often been described as libertarian, but also describes himself as \"politically moderate\". Following the COVID-19 pandemic, however, his views have also been described as becoming more right-wing and conservative over time. Within the context of American politics, Musk has said he supported Barack Obama in 2008 and 2012, Hillary Clinton in 2016, Joe Biden in 2020, and Donald Trump in 2024. In 2022, Musk said he would start voting for Republican Party candidates, with him show\u001b[0m\n",
      "Thought:\u001b[32;1m\u001b[1;3mThought: I now know Elon Musk was born on June 28, 1971. To find his age in 2024, I'll need to do some calculations. \n",
      "Action: Calculator\n",
      "Action Input: (2024 - 1971)\u001b[0m\n",
      "Observation: \u001b[33;1m\u001b[1;3mAnswer: 53\u001b[0m\n",
      "Thought:\u001b[32;1m\u001b[1;3mI now know the final answer\n",
      "Final Answer: Elon Musk was born on June 28, 1971, and will be 53 years old in 2024. \n",
      "\n",
      "\n",
      "\u001b[0m\n",
      "\n",
      "\u001b[1m> Finished chain.\u001b[0m\n",
      "Elon Musk was born on June 28, 1971, and will be 53 years old in 2024.\n"
     ]
    }
   ],
   "source": [
    "from langchain.agents import AgentType, initialize_agent, load_tools\n",
    "\n",
    "tools = load_tools(['wikipedia', 'llm-math'], llm=llm)\n",
    "\n",
    "agent = initialize_agent(\n",
    "    tools,\n",
    "    llm,\n",
    "    agent=AgentType.ZERO_SHOT_REACT_DESCRIPTION,\n",
    "    verbose=True\n",
    ")\n",
    "\n",
    "response = agent.run('When was Elon Musk born and what will his age in 2024?')\n",
    "print(response)"
   ]
  },
  {
   "cell_type": "code",
   "execution_count": 36,
   "metadata": {},
   "outputs": [
    {
     "name": "stdout",
     "output_type": "stream",
     "text": [
      "Elon Musk's birth date: Elon Musk was born on June 28, 1971.\n",
      "Elon Musk's current age: 53\n"
     ]
    }
   ],
   "source": [
    "from langchain.agents import AgentType, initialize_agent, load_tools\n",
    "from datetime import datetime\n",
    "\n",
    "tools = load_tools(['wikipedia'], llm=llm)\n",
    "\n",
    "agent = initialize_agent(\n",
    "    tools,\n",
    "    llm,\n",
    "    agent=AgentType.ZERO_SHOT_REACT_DESCRIPTION\n",
    ")\n",
    "\n",
    "response = agent.run(\"When was Elon Musk born?\")\n",
    "print(\"Elon Musk's birth date:\", response)\n",
    "\n",
    "birth_date = datetime.strptime(\"1971-06-28\", \"%Y-%m-%d\")\n",
    "current_date = datetime.now()\n",
    "\n",
    "age = current_date.year - birth_date.year - ((current_date.month, current_date.day) < (birth_date.month, birth_date.day))\n",
    "print(\"Elon Musk's current age:\", age)\n"
   ]
  },
  {
   "cell_type": "code",
   "execution_count": 47,
   "metadata": {},
   "outputs": [],
   "source": [
    "os.environ['SERPAPI_API_KEY'] = \"062b02f6de33a0a1f4f749438f3d44833addbac54a2a949845c4bfc444a805cd\""
   ]
  },
  {
   "cell_type": "code",
   "execution_count": 48,
   "metadata": {},
   "outputs": [
    {
     "name": "stdout",
     "output_type": "stream",
     "text": [
      "\n",
      "\n",
      "\u001b[1m> Entering new AgentExecutor chain...\u001b[0m\n",
      "\u001b[32;1m\u001b[1;3mThought: This question requires current and accurate information, and I should use my search engine to find the latest data.\n",
      "\n",
      "Action: Search\n",
      "Action Input: \"Current GDP of India\"\u001b[0m\n",
      "Observation: \u001b[36;1m\u001b[1;3mNominal (current) Gross Domestic Product (GDP) of India is $3,385,090,000,000 (USD) as of 2022. Real GDP (constant, inflation adjusted) of India reached $2,432,020,000,000 in 2022. GDP Growth Rate in 2022 was 7.00%, representing a change of 193,390,000,000 US$ over 2021, when Real GDP was $2,761,590,000,000.\u001b[0m\n",
      "Thought:\u001b[32;1m\u001b[1;3mThought: The search result provides the current GDP of India as of 2022, which is approximately $3,385,090,000,000 in nominal terms and $2,432,020,000,000 in real terms. However, I should note that GDP can fluctuate due to various economic factors, so this answer may not reflect the exact GDP at the time of query.\n",
      "\n",
      "Action: none (assuming the answer is satisfactory)\n",
      "\n",
      "Thought: I now know the final answer\n",
      "\n",
      "Final Answer: The current GDP of India is approximately $3,385,090,000,000 in nominal terms and $2,432,020,000,000 in real terms as of 2022.\u001b[0m\n",
      "\n",
      "\u001b[1m> Finished chain.\u001b[0m\n",
      "The current GDP of India is approximately $3,385,090,000,000 in nominal terms and $2,432,020,000,000 in real terms as of 2022.\n"
     ]
    }
   ],
   "source": [
    "tools = load_tools(['serpapi'], llm=llm)\n",
    "\n",
    "agent = initialize_agent(\n",
    "    tools,\n",
    "    llm,\n",
    "    agent=AgentType.ZERO_SHOT_REACT_DESCRIPTION,\n",
    "    verbose=True,\n",
    "    handle_parsing_errors=True\n",
    ")\n",
    "\n",
    "response = agent.run('What is the GDP of india right now?')\n",
    "print(response)\n"
   ]
  },
  {
   "cell_type": "code",
   "execution_count": 79,
   "metadata": {},
   "outputs": [
    {
     "name": "stdout",
     "output_type": "stream",
     "text": [
      "\n",
      "\n",
      "\u001b[1m> Entering new AgentExecutor chain...\u001b[0m\n",
      "\u001b[32;1m\u001b[1;3mTo answer this question, I first need to find out the GDP of India in 2022. I can use the Search tool for this. After I have the GDP, I will use the Calculator tool to add 5 to it.\n",
      "\n",
      "Action: Search\n",
      "Action Input: GDP of India in 2022\n",
      "\u001b[0m\n",
      "Observation: \u001b[36;1m\u001b[1;3m{'type': 'organic_result', 'title': 'Gross Domestic Product (GDP) of India', 'source': 'Worldometer'}\u001b[0m\n",
      "Thought:\u001b[32;1m\u001b[1;3mIt seems like the search result provided a webpage as a reference, but it didn't give the exact GDP figure in the snippet. I should go to the webpage to find the GDP of India in 2022. The webpage is 'Worldometer - Gross Domestic Product (GDP) of India'.\n",
      "\n",
      "Once I have the GDP figure, I can use the Calculator tool to add 5 to it.\n",
      "\n",
      "Action: Open the provided link to find the GDP figure.\n",
      "\u001b[0m\n",
      "Observation: Invalid Format: Missing 'Action Input:' after 'Action:'\n",
      "Thought:\u001b[32;1m\u001b[1;3mI realize my mistake. I should have specified the Action Input for the 'Open' action. However, since the action I mentioned is not supported, I will rephrase my plan.\n",
      "\n",
      "Thought: I cannot open webpages directly, so I'll try to find the GDP of India in 2022 using the Search tool again and hope it provides the number directly. If not, I'll have to notify the user about the limitation.\n",
      "\n",
      "Action: Search\n",
      "Action Input: GDP of India in 2022 in US dollars\n",
      "\u001b[0m\n",
      "Observation: \u001b[36;1m\u001b[1;3m['GDP (current US$) - India. World Bank national accounts data, and OECD National Accounts data files. License : CC BY-4.0. LineBarMap. Also Show.', 'Nominal (current) Gross Domestic Product (GDP) of India is $3,385,090,000,000 (USD) as of 2022. Real GDP (constant, inflation adjusted) of India reached ...', 'Economy of India ; –6.4% of GDP (2022–23) · ₹27.163 trillion (US$330 billion); (2023–24) · ₹45.031 trillion (US$540 billion); (2023–24) · Donor: Increase $4.234 ...', 'The Gross Domestic Product (GDP) in India was worth 3549.92 billion US dollars in 2023, according to official data from the World Bank.', 'India gdp for 2022 was $3,353.47B, a 5.88% increase from 2021. India gdp for 2021 was $3,167.27B, a 18.41% increase from 2020. India gdp for 2020 was $2,674.85B ...', 'Economy. US dollars). 1. United States. 25,462,700. 2. China. 17,963,171. 3. Japan. 4,231,141. 4. Germany. 4,072,192. 5. India. 3,385,090. 6. United Kingdom.', 'India had a GDP per capita of USD 2,393 in 2022, compared to USD 1,440 a decade earlier. This compares to the average for the Asia-Pacific region of USD 8,369.', 'U.S. dollars per capita · India. 2.73 thousand · Bangladesh. 2.65 thousand.', 'In 2020, the estimated gross domestic product per capita in India amounted to about 1,915.55 U.S. ... Monthly exchange rate of Indian rupee ...']\u001b[0m\n",
      "Thought:\u001b[32;1m\u001b[1;3mThe search result provided multiple GDP figures for India in 2022, and they are all around $3,385,090 million (USD). I will use this figure to calculate the final answer.\n",
      "\n",
      "Action: Calculator\n",
      "Action Input: 3385090000000 + 5\n",
      "\u001b[0m\n",
      "Observation: \u001b[33;1m\u001b[1;3mAnswer: 3385090000005\u001b[0m\n",
      "Thought:\u001b[32;1m\u001b[1;3mI now know the final answer.\n",
      "Final Answer: The GDP of India in 2022, added to 5, is approximately 3385090000005 US dollars.\u001b[0m\n",
      "\n",
      "\u001b[1m> Finished chain.\u001b[0m\n",
      "The GDP of India in 2022, added to 5, is approximately 3385090000005 US dollars.\n"
     ]
    }
   ],
   "source": [
    "tools = load_tools(['serpapi', 'llm-math'], llm=llm)\n",
    "\n",
    "agent = initialize_agent(\n",
    "    tools,\n",
    "    llm,\n",
    "    agent=AgentType.ZERO_SHOT_REACT_DESCRIPTION,\n",
    "    verbose=True,\n",
    "    handle_parsing_errors=True\n",
    ")\n",
    "\n",
    "response = agent.run('What is the GDP of india in 2022 and add 5?')\n",
    "print(response)\n"
   ]
  }
 ],
 "metadata": {
  "kernelspec": {
   "display_name": "Python 3",
   "language": "python",
   "name": "python3"
  },
  "language_info": {
   "codemirror_mode": {
    "name": "ipython",
    "version": 3
   },
   "file_extension": ".py",
   "mimetype": "text/x-python",
   "name": "python",
   "nbconvert_exporter": "python",
   "pygments_lexer": "ipython3",
   "version": "3.11.7"
  }
 },
 "nbformat": 4,
 "nbformat_minor": 2
}
